{
  "nbformat": 4,
  "nbformat_minor": 0,
  "metadata": {
    "colab": {
      "provenance": [],
      "gpuType": "T4"
    },
    "kernelspec": {
      "name": "python3",
      "display_name": "Python 3"
    },
    "language_info": {
      "name": "python"
    },
    "accelerator": "GPU"
  },
  "cells": [
    {
      "cell_type": "markdown",
      "source": [
        "# Installation of libraries"
      ],
      "metadata": {
        "id": "aSDma_N1zbki"
      }
    },
    {
      "cell_type": "code",
      "source": [
        "!pip install torch torchvision torchaudio --index-url https://download.pytorch.org/whl/cu121\n",
        "!pip install torch-scatter torch-sparse torch-cluster torch-spline-conv -f https://data.pyg.org/whl/torch-2.1.0+cu121.html\n",
        "!pip install torch-geometric\n",
        "#for CUDA Version: 12.4  , change this according to your cuda version"
      ],
      "metadata": {
        "colab": {
          "base_uri": "https://localhost:8080/"
        },
        "collapsed": true,
        "id": "Dk7dIic_vgZQ",
        "outputId": "6d949326-feb2-4759-bc7a-5aa42359431e"
      },
      "execution_count": 1,
      "outputs": [
        {
          "output_type": "stream",
          "name": "stdout",
          "text": [
            "Looking in indexes: https://download.pytorch.org/whl/cu121\n",
            "Requirement already satisfied: torch in /usr/local/lib/python3.11/dist-packages (2.5.1+cu124)\n",
            "Requirement already satisfied: torchvision in /usr/local/lib/python3.11/dist-packages (0.20.1+cu124)\n",
            "Requirement already satisfied: torchaudio in /usr/local/lib/python3.11/dist-packages (2.5.1+cu124)\n",
            "Requirement already satisfied: filelock in /usr/local/lib/python3.11/dist-packages (from torch) (3.17.0)\n",
            "Requirement already satisfied: typing-extensions>=4.8.0 in /usr/local/lib/python3.11/dist-packages (from torch) (4.12.2)\n",
            "Requirement already satisfied: networkx in /usr/local/lib/python3.11/dist-packages (from torch) (3.4.2)\n",
            "Requirement already satisfied: jinja2 in /usr/local/lib/python3.11/dist-packages (from torch) (3.1.5)\n",
            "Requirement already satisfied: fsspec in /usr/local/lib/python3.11/dist-packages (from torch) (2024.10.0)\n",
            "INFO: pip is looking at multiple versions of torch to determine which version is compatible with other requirements. This could take a while.\n",
            "Collecting torch\n",
            "  Downloading https://download.pytorch.org/whl/cu121/torch-2.5.1%2Bcu121-cp311-cp311-linux_x86_64.whl (780.5 MB)\n",
            "\u001b[2K     \u001b[90m━━━━━━━━━━━━━━━━━━━━━━━━━━━━━━━━━━━━━━━━\u001b[0m \u001b[32m780.5/780.5 MB\u001b[0m \u001b[31m2.3 MB/s\u001b[0m eta \u001b[36m0:00:00\u001b[0m\n",
            "\u001b[?25hCollecting nvidia-cuda-nvrtc-cu12==12.1.105 (from torch)\n",
            "  Downloading https://download.pytorch.org/whl/cu121/nvidia_cuda_nvrtc_cu12-12.1.105-py3-none-manylinux1_x86_64.whl (23.7 MB)\n",
            "\u001b[2K     \u001b[90m━━━━━━━━━━━━━━━━━━━━━━━━━━━━━━━━━━━━━━━━\u001b[0m \u001b[32m23.7/23.7 MB\u001b[0m \u001b[31m77.8 MB/s\u001b[0m eta \u001b[36m0:00:00\u001b[0m\n",
            "\u001b[?25hCollecting nvidia-cuda-runtime-cu12==12.1.105 (from torch)\n",
            "  Downloading https://download.pytorch.org/whl/cu121/nvidia_cuda_runtime_cu12-12.1.105-py3-none-manylinux1_x86_64.whl (823 kB)\n",
            "\u001b[2K     \u001b[90m━━━━━━━━━━━━━━━━━━━━━━━━━━━━━━━━━━━━━━━━\u001b[0m \u001b[32m823.6/823.6 kB\u001b[0m \u001b[31m56.7 MB/s\u001b[0m eta \u001b[36m0:00:00\u001b[0m\n",
            "\u001b[?25hCollecting nvidia-cuda-cupti-cu12==12.1.105 (from torch)\n",
            "  Downloading https://download.pytorch.org/whl/cu121/nvidia_cuda_cupti_cu12-12.1.105-py3-none-manylinux1_x86_64.whl (14.1 MB)\n",
            "\u001b[2K     \u001b[90m━━━━━━━━━━━━━━━━━━━━━━━━━━━━━━━━━━━━━━━━\u001b[0m \u001b[32m14.1/14.1 MB\u001b[0m \u001b[31m99.9 MB/s\u001b[0m eta \u001b[36m0:00:00\u001b[0m\n",
            "\u001b[?25hCollecting nvidia-cudnn-cu12==9.1.0.70 (from torch)\n",
            "  Downloading https://download.pytorch.org/whl/cu121/nvidia_cudnn_cu12-9.1.0.70-py3-none-manylinux2014_x86_64.whl (664.8 MB)\n",
            "\u001b[2K     \u001b[90m━━━━━━━━━━━━━━━━━━━━━━━━━━━━━━━━━━━━━━━━\u001b[0m \u001b[32m664.8/664.8 MB\u001b[0m \u001b[31m2.9 MB/s\u001b[0m eta \u001b[36m0:00:00\u001b[0m\n",
            "\u001b[?25hCollecting nvidia-cublas-cu12==12.1.3.1 (from torch)\n",
            "  Downloading https://download.pytorch.org/whl/cu121/nvidia_cublas_cu12-12.1.3.1-py3-none-manylinux1_x86_64.whl (410.6 MB)\n",
            "\u001b[2K     \u001b[90m━━━━━━━━━━━━━━━━━━━━━━━━━━━━━━━━━━━━━━━━\u001b[0m \u001b[32m410.6/410.6 MB\u001b[0m \u001b[31m3.5 MB/s\u001b[0m eta \u001b[36m0:00:00\u001b[0m\n",
            "\u001b[?25hCollecting nvidia-cufft-cu12==11.0.2.54 (from torch)\n",
            "  Downloading https://download.pytorch.org/whl/cu121/nvidia_cufft_cu12-11.0.2.54-py3-none-manylinux1_x86_64.whl (121.6 MB)\n",
            "\u001b[2K     \u001b[90m━━━━━━━━━━━━━━━━━━━━━━━━━━━━━━━━━━━━━━━━\u001b[0m \u001b[32m121.6/121.6 MB\u001b[0m \u001b[31m7.5 MB/s\u001b[0m eta \u001b[36m0:00:00\u001b[0m\n",
            "\u001b[?25hCollecting nvidia-curand-cu12==10.3.2.106 (from torch)\n",
            "  Downloading https://download.pytorch.org/whl/cu121/nvidia_curand_cu12-10.3.2.106-py3-none-manylinux1_x86_64.whl (56.5 MB)\n",
            "\u001b[2K     \u001b[90m━━━━━━━━━━━━━━━━━━━━━━━━━━━━━━━━━━━━━━━━\u001b[0m \u001b[32m56.5/56.5 MB\u001b[0m \u001b[31m12.8 MB/s\u001b[0m eta \u001b[36m0:00:00\u001b[0m\n",
            "\u001b[?25hCollecting nvidia-cusolver-cu12==11.4.5.107 (from torch)\n",
            "  Downloading https://download.pytorch.org/whl/cu121/nvidia_cusolver_cu12-11.4.5.107-py3-none-manylinux1_x86_64.whl (124.2 MB)\n",
            "\u001b[2K     \u001b[90m━━━━━━━━━━━━━━━━━━━━━━━━━━━━━━━━━━━━━━━━\u001b[0m \u001b[32m124.2/124.2 MB\u001b[0m \u001b[31m7.6 MB/s\u001b[0m eta \u001b[36m0:00:00\u001b[0m\n",
            "\u001b[?25hCollecting nvidia-cusparse-cu12==12.1.0.106 (from torch)\n",
            "  Downloading https://download.pytorch.org/whl/cu121/nvidia_cusparse_cu12-12.1.0.106-py3-none-manylinux1_x86_64.whl (196.0 MB)\n",
            "\u001b[2K     \u001b[90m━━━━━━━━━━━━━━━━━━━━━━━━━━━━━━━━━━━━━━━━\u001b[0m \u001b[32m196.0/196.0 MB\u001b[0m \u001b[31m6.5 MB/s\u001b[0m eta \u001b[36m0:00:00\u001b[0m\n",
            "\u001b[?25hRequirement already satisfied: nvidia-nccl-cu12==2.21.5 in /usr/local/lib/python3.11/dist-packages (from torch) (2.21.5)\n",
            "Collecting nvidia-nvtx-cu12==12.1.105 (from torch)\n",
            "  Downloading https://download.pytorch.org/whl/cu121/nvidia_nvtx_cu12-12.1.105-py3-none-manylinux1_x86_64.whl (99 kB)\n",
            "\u001b[2K     \u001b[90m━━━━━━━━━━━━━━━━━━━━━━━━━━━━━━━━━━━━━━━━\u001b[0m \u001b[32m99.1/99.1 kB\u001b[0m \u001b[31m10.3 MB/s\u001b[0m eta \u001b[36m0:00:00\u001b[0m\n",
            "\u001b[?25hRequirement already satisfied: triton==3.1.0 in /usr/local/lib/python3.11/dist-packages (from torch) (3.1.0)\n",
            "Requirement already satisfied: sympy==1.13.1 in /usr/local/lib/python3.11/dist-packages (from torch) (1.13.1)\n",
            "Requirement already satisfied: nvidia-nvjitlink-cu12 in /usr/local/lib/python3.11/dist-packages (from nvidia-cusolver-cu12==11.4.5.107->torch) (12.5.82)\n",
            "Requirement already satisfied: mpmath<1.4,>=1.1.0 in /usr/local/lib/python3.11/dist-packages (from sympy==1.13.1->torch) (1.3.0)\n",
            "Requirement already satisfied: numpy in /usr/local/lib/python3.11/dist-packages (from torchvision) (1.26.4)\n",
            "Requirement already satisfied: pillow!=8.3.*,>=5.3.0 in /usr/local/lib/python3.11/dist-packages (from torchvision) (11.1.0)\n",
            "Requirement already satisfied: MarkupSafe>=2.0 in /usr/local/lib/python3.11/dist-packages (from jinja2->torch) (3.0.2)\n",
            "Installing collected packages: nvidia-nvtx-cu12, nvidia-cusparse-cu12, nvidia-curand-cu12, nvidia-cufft-cu12, nvidia-cuda-runtime-cu12, nvidia-cuda-nvrtc-cu12, nvidia-cuda-cupti-cu12, nvidia-cublas-cu12, nvidia-cusolver-cu12, nvidia-cudnn-cu12, torch\n",
            "  Attempting uninstall: nvidia-nvtx-cu12\n",
            "    Found existing installation: nvidia-nvtx-cu12 12.4.127\n",
            "    Uninstalling nvidia-nvtx-cu12-12.4.127:\n",
            "      Successfully uninstalled nvidia-nvtx-cu12-12.4.127\n",
            "  Attempting uninstall: nvidia-cusparse-cu12\n",
            "    Found existing installation: nvidia-cusparse-cu12 12.5.1.3\n",
            "    Uninstalling nvidia-cusparse-cu12-12.5.1.3:\n",
            "      Successfully uninstalled nvidia-cusparse-cu12-12.5.1.3\n",
            "  Attempting uninstall: nvidia-curand-cu12\n",
            "    Found existing installation: nvidia-curand-cu12 10.3.6.82\n",
            "    Uninstalling nvidia-curand-cu12-10.3.6.82:\n",
            "      Successfully uninstalled nvidia-curand-cu12-10.3.6.82\n",
            "  Attempting uninstall: nvidia-cufft-cu12\n",
            "    Found existing installation: nvidia-cufft-cu12 11.2.3.61\n",
            "    Uninstalling nvidia-cufft-cu12-11.2.3.61:\n",
            "      Successfully uninstalled nvidia-cufft-cu12-11.2.3.61\n",
            "  Attempting uninstall: nvidia-cuda-runtime-cu12\n",
            "    Found existing installation: nvidia-cuda-runtime-cu12 12.5.82\n",
            "    Uninstalling nvidia-cuda-runtime-cu12-12.5.82:\n",
            "      Successfully uninstalled nvidia-cuda-runtime-cu12-12.5.82\n",
            "  Attempting uninstall: nvidia-cuda-nvrtc-cu12\n",
            "    Found existing installation: nvidia-cuda-nvrtc-cu12 12.5.82\n",
            "    Uninstalling nvidia-cuda-nvrtc-cu12-12.5.82:\n",
            "      Successfully uninstalled nvidia-cuda-nvrtc-cu12-12.5.82\n",
            "  Attempting uninstall: nvidia-cuda-cupti-cu12\n",
            "    Found existing installation: nvidia-cuda-cupti-cu12 12.5.82\n",
            "    Uninstalling nvidia-cuda-cupti-cu12-12.5.82:\n",
            "      Successfully uninstalled nvidia-cuda-cupti-cu12-12.5.82\n",
            "  Attempting uninstall: nvidia-cublas-cu12\n",
            "    Found existing installation: nvidia-cublas-cu12 12.5.3.2\n",
            "    Uninstalling nvidia-cublas-cu12-12.5.3.2:\n",
            "      Successfully uninstalled nvidia-cublas-cu12-12.5.3.2\n",
            "  Attempting uninstall: nvidia-cusolver-cu12\n",
            "    Found existing installation: nvidia-cusolver-cu12 11.6.3.83\n",
            "    Uninstalling nvidia-cusolver-cu12-11.6.3.83:\n",
            "      Successfully uninstalled nvidia-cusolver-cu12-11.6.3.83\n",
            "  Attempting uninstall: nvidia-cudnn-cu12\n",
            "    Found existing installation: nvidia-cudnn-cu12 9.3.0.75\n",
            "    Uninstalling nvidia-cudnn-cu12-9.3.0.75:\n",
            "      Successfully uninstalled nvidia-cudnn-cu12-9.3.0.75\n",
            "  Attempting uninstall: torch\n",
            "    Found existing installation: torch 2.5.1+cu124\n",
            "    Uninstalling torch-2.5.1+cu124:\n",
            "      Successfully uninstalled torch-2.5.1+cu124\n",
            "Successfully installed nvidia-cublas-cu12-12.1.3.1 nvidia-cuda-cupti-cu12-12.1.105 nvidia-cuda-nvrtc-cu12-12.1.105 nvidia-cuda-runtime-cu12-12.1.105 nvidia-cudnn-cu12-9.1.0.70 nvidia-cufft-cu12-11.0.2.54 nvidia-curand-cu12-10.3.2.106 nvidia-cusolver-cu12-11.4.5.107 nvidia-cusparse-cu12-12.1.0.106 nvidia-nvtx-cu12-12.1.105 torch-2.5.1+cu121\n",
            "Looking in links: https://data.pyg.org/whl/torch-2.1.0+cu121.html\n",
            "Collecting torch-scatter\n",
            "  Downloading https://data.pyg.org/whl/torch-2.1.0%2Bcu121/torch_scatter-2.1.2%2Bpt21cu121-cp311-cp311-linux_x86_64.whl (10.8 MB)\n",
            "\u001b[2K     \u001b[90m━━━━━━━━━━━━━━━━━━━━━━━━━━━━━━━━━━━━━━━━\u001b[0m \u001b[32m10.8/10.8 MB\u001b[0m \u001b[31m96.1 MB/s\u001b[0m eta \u001b[36m0:00:00\u001b[0m\n",
            "\u001b[?25hCollecting torch-sparse\n",
            "  Downloading https://data.pyg.org/whl/torch-2.1.0%2Bcu121/torch_sparse-0.6.18%2Bpt21cu121-cp311-cp311-linux_x86_64.whl (5.1 MB)\n",
            "\u001b[2K     \u001b[90m━━━━━━━━━━━━━━━━━━━━━━━━━━━━━━━━━━━━━━━━\u001b[0m \u001b[32m5.1/5.1 MB\u001b[0m \u001b[31m53.1 MB/s\u001b[0m eta \u001b[36m0:00:00\u001b[0m\n",
            "\u001b[?25hCollecting torch-cluster\n",
            "  Downloading https://data.pyg.org/whl/torch-2.1.0%2Bcu121/torch_cluster-1.6.3%2Bpt21cu121-cp311-cp311-linux_x86_64.whl (3.3 MB)\n",
            "\u001b[2K     \u001b[90m━━━━━━━━━━━━━━━━━━━━━━━━━━━━━━━━━━━━━━━━\u001b[0m \u001b[32m3.3/3.3 MB\u001b[0m \u001b[31m61.3 MB/s\u001b[0m eta \u001b[36m0:00:00\u001b[0m\n",
            "\u001b[?25hCollecting torch-spline-conv\n",
            "  Downloading https://data.pyg.org/whl/torch-2.1.0%2Bcu121/torch_spline_conv-1.2.2%2Bpt21cu121-cp311-cp311-linux_x86_64.whl (935 kB)\n",
            "\u001b[2K     \u001b[90m━━━━━━━━━━━━━━━━━━━━━━━━━━━━━━━━━━━━━━━━\u001b[0m \u001b[32m936.0/936.0 kB\u001b[0m \u001b[31m4.9 MB/s\u001b[0m eta \u001b[36m0:00:00\u001b[0m\n",
            "\u001b[?25hRequirement already satisfied: scipy in /usr/local/lib/python3.11/dist-packages (from torch-sparse) (1.13.1)\n",
            "Requirement already satisfied: numpy<2.3,>=1.22.4 in /usr/local/lib/python3.11/dist-packages (from scipy->torch-sparse) (1.26.4)\n",
            "Installing collected packages: torch-spline-conv, torch-scatter, torch-sparse, torch-cluster\n",
            "Successfully installed torch-cluster-1.6.3+pt21cu121 torch-scatter-2.1.2+pt21cu121 torch-sparse-0.6.18+pt21cu121 torch-spline-conv-1.2.2+pt21cu121\n",
            "Collecting torch-geometric\n",
            "  Downloading torch_geometric-2.6.1-py3-none-any.whl.metadata (63 kB)\n",
            "\u001b[2K     \u001b[90m━━━━━━━━━━━━━━━━━━━━━━━━━━━━━━━━━━━━━━━━\u001b[0m \u001b[32m63.1/63.1 kB\u001b[0m \u001b[31m5.1 MB/s\u001b[0m eta \u001b[36m0:00:00\u001b[0m\n",
            "\u001b[?25hRequirement already satisfied: aiohttp in /usr/local/lib/python3.11/dist-packages (from torch-geometric) (3.11.12)\n",
            "Requirement already satisfied: fsspec in /usr/local/lib/python3.11/dist-packages (from torch-geometric) (2024.10.0)\n",
            "Requirement already satisfied: jinja2 in /usr/local/lib/python3.11/dist-packages (from torch-geometric) (3.1.5)\n",
            "Requirement already satisfied: numpy in /usr/local/lib/python3.11/dist-packages (from torch-geometric) (1.26.4)\n",
            "Requirement already satisfied: psutil>=5.8.0 in /usr/local/lib/python3.11/dist-packages (from torch-geometric) (5.9.5)\n",
            "Requirement already satisfied: pyparsing in /usr/local/lib/python3.11/dist-packages (from torch-geometric) (3.2.1)\n",
            "Requirement already satisfied: requests in /usr/local/lib/python3.11/dist-packages (from torch-geometric) (2.32.3)\n",
            "Requirement already satisfied: tqdm in /usr/local/lib/python3.11/dist-packages (from torch-geometric) (4.67.1)\n",
            "Requirement already satisfied: aiohappyeyeballs>=2.3.0 in /usr/local/lib/python3.11/dist-packages (from aiohttp->torch-geometric) (2.4.6)\n",
            "Requirement already satisfied: aiosignal>=1.1.2 in /usr/local/lib/python3.11/dist-packages (from aiohttp->torch-geometric) (1.3.2)\n",
            "Requirement already satisfied: attrs>=17.3.0 in /usr/local/lib/python3.11/dist-packages (from aiohttp->torch-geometric) (25.1.0)\n",
            "Requirement already satisfied: frozenlist>=1.1.1 in /usr/local/lib/python3.11/dist-packages (from aiohttp->torch-geometric) (1.5.0)\n",
            "Requirement already satisfied: multidict<7.0,>=4.5 in /usr/local/lib/python3.11/dist-packages (from aiohttp->torch-geometric) (6.1.0)\n",
            "Requirement already satisfied: propcache>=0.2.0 in /usr/local/lib/python3.11/dist-packages (from aiohttp->torch-geometric) (0.2.1)\n",
            "Requirement already satisfied: yarl<2.0,>=1.17.0 in /usr/local/lib/python3.11/dist-packages (from aiohttp->torch-geometric) (1.18.3)\n",
            "Requirement already satisfied: MarkupSafe>=2.0 in /usr/local/lib/python3.11/dist-packages (from jinja2->torch-geometric) (3.0.2)\n",
            "Requirement already satisfied: charset-normalizer<4,>=2 in /usr/local/lib/python3.11/dist-packages (from requests->torch-geometric) (3.4.1)\n",
            "Requirement already satisfied: idna<4,>=2.5 in /usr/local/lib/python3.11/dist-packages (from requests->torch-geometric) (3.10)\n",
            "Requirement already satisfied: urllib3<3,>=1.21.1 in /usr/local/lib/python3.11/dist-packages (from requests->torch-geometric) (2.3.0)\n",
            "Requirement already satisfied: certifi>=2017.4.17 in /usr/local/lib/python3.11/dist-packages (from requests->torch-geometric) (2025.1.31)\n",
            "Downloading torch_geometric-2.6.1-py3-none-any.whl (1.1 MB)\n",
            "\u001b[2K   \u001b[90m━━━━━━━━━━━━━━━━━━━━━━━━━━━━━━━━━━━━━━━━\u001b[0m \u001b[32m1.1/1.1 MB\u001b[0m \u001b[31m40.9 MB/s\u001b[0m eta \u001b[36m0:00:00\u001b[0m\n",
            "\u001b[?25hInstalling collected packages: torch-geometric\n",
            "Successfully installed torch-geometric-2.6.1\n"
          ]
        }
      ]
    },
    {
      "cell_type": "code",
      "source": [
        "!nvidia-smi\n"
      ],
      "metadata": {
        "colab": {
          "base_uri": "https://localhost:8080/"
        },
        "collapsed": true,
        "id": "rjQHMusuuaMA",
        "outputId": "0d819350-e3a4-44af-8122-366184a37acf"
      },
      "execution_count": null,
      "outputs": [
        {
          "output_type": "stream",
          "name": "stdout",
          "text": [
            "Thu Feb  6 09:26:28 2025       \n",
            "+-----------------------------------------------------------------------------------------+\n",
            "| NVIDIA-SMI 550.54.15              Driver Version: 550.54.15      CUDA Version: 12.4     |\n",
            "|-----------------------------------------+------------------------+----------------------+\n",
            "| GPU  Name                 Persistence-M | Bus-Id          Disp.A | Volatile Uncorr. ECC |\n",
            "| Fan  Temp   Perf          Pwr:Usage/Cap |           Memory-Usage | GPU-Util  Compute M. |\n",
            "|                                         |                        |               MIG M. |\n",
            "|=========================================+========================+======================|\n",
            "|   0  Tesla T4                       Off |   00000000:00:04.0 Off |                    0 |\n",
            "| N/A   40C    P8              9W /   70W |       2MiB /  15360MiB |      0%      Default |\n",
            "|                                         |                        |                  N/A |\n",
            "+-----------------------------------------+------------------------+----------------------+\n",
            "                                                                                         \n",
            "+-----------------------------------------------------------------------------------------+\n",
            "| Processes:                                                                              |\n",
            "|  GPU   GI   CI        PID   Type   Process name                              GPU Memory |\n",
            "|        ID   ID                                                               Usage      |\n",
            "|=========================================================================================|\n",
            "|  No running processes found                                                             |\n",
            "+-----------------------------------------------------------------------------------------+\n"
          ]
        }
      ]
    },
    {
      "cell_type": "markdown",
      "source": [
        "# **Importing Libraries**"
      ],
      "metadata": {
        "id": "L7sXJdWDzm_p"
      }
    },
    {
      "cell_type": "code",
      "source": [
        "import numpy as np\n",
        "import pandas as pd\n",
        "import torch\n",
        "import torch.nn as nn\n",
        "import torch.optim as optim\n",
        "from torch_geometric.data import Data\n",
        "from torch_geometric.nn import GATConv\n",
        "import matplotlib.pyplot as plt\n",
        "import seaborn as sns\n",
        "from sklearn.model_selection import train_test_split\n",
        "from sklearn.preprocessing import StandardScaler, LabelEncoder"
      ],
      "metadata": {
        "collapsed": true,
        "id": "tNdySAfKzo8L",
        "colab": {
          "base_uri": "https://localhost:8080/"
        },
        "outputId": "f20f8101-37cb-47e0-b501-56fbaa724456"
      },
      "execution_count": 2,
      "outputs": [
        {
          "output_type": "stream",
          "name": "stderr",
          "text": [
            "/usr/local/lib/python3.11/dist-packages/torch_geometric/typing.py:86: UserWarning: An issue occurred while importing 'torch-scatter'. Disabling its usage. Stacktrace: /usr/local/lib/python3.11/dist-packages/torch_scatter/_version_cuda.so: undefined symbol: _ZN3c1017RegisterOperatorsD1Ev\n",
            "  warnings.warn(f\"An issue occurred while importing 'torch-scatter'. \"\n",
            "/usr/local/lib/python3.11/dist-packages/torch_geometric/typing.py:97: UserWarning: An issue occurred while importing 'torch-cluster'. Disabling its usage. Stacktrace: /usr/local/lib/python3.11/dist-packages/torch_cluster/_version_cuda.so: undefined symbol: _ZN3c1017RegisterOperatorsD1Ev\n",
            "  warnings.warn(f\"An issue occurred while importing 'torch-cluster'. \"\n",
            "/usr/local/lib/python3.11/dist-packages/torch_geometric/typing.py:113: UserWarning: An issue occurred while importing 'torch-spline-conv'. Disabling its usage. Stacktrace: /usr/local/lib/python3.11/dist-packages/torch_spline_conv/_version_cuda.so: undefined symbol: _ZN3c1017RegisterOperatorsD1Ev\n",
            "  warnings.warn(\n",
            "/usr/local/lib/python3.11/dist-packages/torch_geometric/typing.py:124: UserWarning: An issue occurred while importing 'torch-sparse'. Disabling its usage. Stacktrace: /usr/local/lib/python3.11/dist-packages/torch_sparse/_version_cuda.so: undefined symbol: _ZN3c1017RegisterOperatorsD1Ev\n",
            "  warnings.warn(f\"An issue occurred while importing 'torch-sparse'. \"\n"
          ]
        }
      ]
    },
    {
      "cell_type": "code",
      "source": [
        "import torch\n",
        "import torch_geometric\n",
        "from torch_geometric.nn import GATConv\n",
        "#import torch_geometric.nn.models.tgn\n",
        "from torch_geometric.nn.models import TGNMemory\n",
        "\n",
        "\n",
        "print(\"Torch version:\", torch.__version__)\n",
        "print(\"Torch CUDA availability:\", torch.cuda.is_available())\n",
        "print(\"Torch Geometric version:\", torch_geometric.__version__)"
      ],
      "metadata": {
        "colab": {
          "base_uri": "https://localhost:8080/"
        },
        "id": "7XNNMxYwwSze",
        "outputId": "c77d8a2a-e81b-4afa-9449-9f590197fa4a"
      },
      "execution_count": 3,
      "outputs": [
        {
          "output_type": "stream",
          "name": "stdout",
          "text": [
            "Torch version: 2.5.1+cu121\n",
            "Torch CUDA availability: True\n",
            "Torch Geometric version: 2.6.1\n"
          ]
        }
      ]
    },
    {
      "cell_type": "markdown",
      "source": [
        "# **LOADIND DATA**"
      ],
      "metadata": {
        "id": "1XTkmD0zliVs"
      }
    },
    {
      "cell_type": "code",
      "source": [
        "# Load ECG Data\n",
        "ecg_data = pd.read_csv(\"mitbih_test.csv\")\n",
        "#clinical_data = pd.read_csv(\"heart_disease_uci.csv\")"
      ],
      "metadata": {
        "id": "-E0dJZgy5cBy"
      },
      "execution_count": 4,
      "outputs": []
    },
    {
      "cell_type": "markdown",
      "source": [
        "# **EDA**"
      ],
      "metadata": {
        "id": "SgSAANZ6lrPP"
      }
    },
    {
      "cell_type": "code",
      "source": [
        "ecg_data.describe()"
      ],
      "metadata": {
        "colab": {
          "base_uri": "https://localhost:8080/",
          "height": 367
        },
        "collapsed": true,
        "id": "mH1vN0rU2PRb",
        "outputId": "6e9dd2cb-8285-425b-e6b5-ec3715c0080d"
      },
      "execution_count": 45,
      "outputs": [
        {
          "output_type": "execute_result",
          "data": {
            "text/plain": [
              "       1.000000000000000000e+00  7.582644820213317871e-01  \\\n",
              "count              21891.000000              21891.000000   \n",
              "mean                   0.894405                  0.761902   \n",
              "std                    0.234564                  0.218664   \n",
              "min                    0.000000                  0.000000   \n",
              "25%                    0.924254                  0.683355   \n",
              "50%                    0.990431                  0.828996   \n",
              "75%                    1.000000                  0.912320   \n",
              "max                    1.000000                  1.000000   \n",
              "\n",
              "       1.115702465176582336e-01  0.000000000000000000e+00  \\\n",
              "count              21891.000000              21891.000000   \n",
              "mean                   0.426641                  0.221606   \n",
              "std                    0.228568                  0.208710   \n",
              "min                    0.000000                  0.000000   \n",
              "25%                    0.251220                  0.050514   \n",
              "50%                    0.432781                  0.167641   \n",
              "75%                    0.583994                  0.347097   \n",
              "max                    1.000000                  1.000000   \n",
              "\n",
              "       8.057851344347000122e-02  7.851240038871765137e-02  \\\n",
              "count              21891.000000              21891.000000   \n",
              "mean                   0.201682                  0.209897   \n",
              "std                    0.177730                  0.172195   \n",
              "min                    0.000000                  0.000000   \n",
              "25%                    0.082873                  0.087912   \n",
              "50%                    0.147651                  0.158120   \n",
              "75%                    0.259227                  0.287356   \n",
              "max                    1.000000                  1.000000   \n",
              "\n",
              "       6.611569970846176147e-02  4.958677664399147034e-02  \\\n",
              "count              21891.000000              21891.000000   \n",
              "mean                   0.204811                  0.200999   \n",
              "std                    0.177948                  0.176143   \n",
              "min                    0.000000                  0.000000   \n",
              "25%                    0.072678                  0.066003   \n",
              "50%                    0.144068                  0.144509   \n",
              "75%                    0.298456                  0.294566   \n",
              "max                    1.000000                  1.000000   \n",
              "\n",
              "       4.752065986394882202e-02  3.512396663427352905e-02  ...  \\\n",
              "count              21891.000000              21891.000000  ...   \n",
              "mean                   0.197640                  0.196030  ...   \n",
              "std                    0.170229                  0.166707  ...   \n",
              "min                    0.000000                  0.000000  ...   \n",
              "25%                    0.064516                  0.068506  ...   \n",
              "50%                    0.150442                  0.149038  ...   \n",
              "75%                    0.289907                  0.282966  ...   \n",
              "max                    1.000000                  0.991429  ...   \n",
              "\n",
              "       0.000000000000000000e+00.56  0.000000000000000000e+00.57  \\\n",
              "count                 21891.000000                 21891.000000   \n",
              "mean                      0.004588                     0.004328   \n",
              "std                       0.043129                     0.042188   \n",
              "min                       0.000000                     0.000000   \n",
              "25%                       0.000000                     0.000000   \n",
              "50%                       0.000000                     0.000000   \n",
              "75%                       0.000000                     0.000000   \n",
              "max                       0.980392                     1.000000   \n",
              "\n",
              "       0.000000000000000000e+00.58  0.000000000000000000e+00.59  \\\n",
              "count                 21891.000000                 21891.000000   \n",
              "mean                      0.004020                     0.003789   \n",
              "std                       0.040256                     0.039398   \n",
              "min                       0.000000                     0.000000   \n",
              "25%                       0.000000                     0.000000   \n",
              "50%                       0.000000                     0.000000   \n",
              "75%                       0.000000                     0.000000   \n",
              "max                       0.966102                     1.000000   \n",
              "\n",
              "       0.000000000000000000e+00.60  0.000000000000000000e+00.61  \\\n",
              "count                 21891.000000                 21891.000000   \n",
              "mean                      0.003639                     0.003459   \n",
              "std                       0.038536                     0.037718   \n",
              "min                       0.000000                     0.000000   \n",
              "25%                       0.000000                     0.000000   \n",
              "50%                       0.000000                     0.000000   \n",
              "75%                       0.000000                     0.000000   \n",
              "max                       1.000000                     1.000000   \n",
              "\n",
              "       0.000000000000000000e+00.62  0.000000000000000000e+00.63  \\\n",
              "count                 21891.000000                 21891.000000   \n",
              "mean                      0.003167                     0.003000   \n",
              "std                       0.035904                     0.035523   \n",
              "min                       0.000000                     0.000000   \n",
              "25%                       0.000000                     0.000000   \n",
              "50%                       0.000000                     0.000000   \n",
              "75%                       0.000000                     0.000000   \n",
              "max                       1.000000                     0.996053   \n",
              "\n",
              "       0.000000000000000000e+00.64  0.000000000000000000e+00.65  \n",
              "count                 21891.000000                 21891.000000  \n",
              "mean                      0.002946                     0.473711  \n",
              "std                       0.035267                     1.143469  \n",
              "min                       0.000000                     0.000000  \n",
              "25%                       0.000000                     0.000000  \n",
              "50%                       0.000000                     0.000000  \n",
              "75%                       0.000000                     0.000000  \n",
              "max                       1.000000                     4.000000  \n",
              "\n",
              "[8 rows x 188 columns]"
            ],
            "text/html": [
              "\n",
              "  <div id=\"df-4b27bd27-c91d-468b-96b4-b4d74f8ce368\" class=\"colab-df-container\">\n",
              "    <div>\n",
              "<style scoped>\n",
              "    .dataframe tbody tr th:only-of-type {\n",
              "        vertical-align: middle;\n",
              "    }\n",
              "\n",
              "    .dataframe tbody tr th {\n",
              "        vertical-align: top;\n",
              "    }\n",
              "\n",
              "    .dataframe thead th {\n",
              "        text-align: right;\n",
              "    }\n",
              "</style>\n",
              "<table border=\"1\" class=\"dataframe\">\n",
              "  <thead>\n",
              "    <tr style=\"text-align: right;\">\n",
              "      <th></th>\n",
              "      <th>1.000000000000000000e+00</th>\n",
              "      <th>7.582644820213317871e-01</th>\n",
              "      <th>1.115702465176582336e-01</th>\n",
              "      <th>0.000000000000000000e+00</th>\n",
              "      <th>8.057851344347000122e-02</th>\n",
              "      <th>7.851240038871765137e-02</th>\n",
              "      <th>6.611569970846176147e-02</th>\n",
              "      <th>4.958677664399147034e-02</th>\n",
              "      <th>4.752065986394882202e-02</th>\n",
              "      <th>3.512396663427352905e-02</th>\n",
              "      <th>...</th>\n",
              "      <th>0.000000000000000000e+00.56</th>\n",
              "      <th>0.000000000000000000e+00.57</th>\n",
              "      <th>0.000000000000000000e+00.58</th>\n",
              "      <th>0.000000000000000000e+00.59</th>\n",
              "      <th>0.000000000000000000e+00.60</th>\n",
              "      <th>0.000000000000000000e+00.61</th>\n",
              "      <th>0.000000000000000000e+00.62</th>\n",
              "      <th>0.000000000000000000e+00.63</th>\n",
              "      <th>0.000000000000000000e+00.64</th>\n",
              "      <th>0.000000000000000000e+00.65</th>\n",
              "    </tr>\n",
              "  </thead>\n",
              "  <tbody>\n",
              "    <tr>\n",
              "      <th>count</th>\n",
              "      <td>21891.000000</td>\n",
              "      <td>21891.000000</td>\n",
              "      <td>21891.000000</td>\n",
              "      <td>21891.000000</td>\n",
              "      <td>21891.000000</td>\n",
              "      <td>21891.000000</td>\n",
              "      <td>21891.000000</td>\n",
              "      <td>21891.000000</td>\n",
              "      <td>21891.000000</td>\n",
              "      <td>21891.000000</td>\n",
              "      <td>...</td>\n",
              "      <td>21891.000000</td>\n",
              "      <td>21891.000000</td>\n",
              "      <td>21891.000000</td>\n",
              "      <td>21891.000000</td>\n",
              "      <td>21891.000000</td>\n",
              "      <td>21891.000000</td>\n",
              "      <td>21891.000000</td>\n",
              "      <td>21891.000000</td>\n",
              "      <td>21891.000000</td>\n",
              "      <td>21891.000000</td>\n",
              "    </tr>\n",
              "    <tr>\n",
              "      <th>mean</th>\n",
              "      <td>0.894405</td>\n",
              "      <td>0.761902</td>\n",
              "      <td>0.426641</td>\n",
              "      <td>0.221606</td>\n",
              "      <td>0.201682</td>\n",
              "      <td>0.209897</td>\n",
              "      <td>0.204811</td>\n",
              "      <td>0.200999</td>\n",
              "      <td>0.197640</td>\n",
              "      <td>0.196030</td>\n",
              "      <td>...</td>\n",
              "      <td>0.004588</td>\n",
              "      <td>0.004328</td>\n",
              "      <td>0.004020</td>\n",
              "      <td>0.003789</td>\n",
              "      <td>0.003639</td>\n",
              "      <td>0.003459</td>\n",
              "      <td>0.003167</td>\n",
              "      <td>0.003000</td>\n",
              "      <td>0.002946</td>\n",
              "      <td>0.473711</td>\n",
              "    </tr>\n",
              "    <tr>\n",
              "      <th>std</th>\n",
              "      <td>0.234564</td>\n",
              "      <td>0.218664</td>\n",
              "      <td>0.228568</td>\n",
              "      <td>0.208710</td>\n",
              "      <td>0.177730</td>\n",
              "      <td>0.172195</td>\n",
              "      <td>0.177948</td>\n",
              "      <td>0.176143</td>\n",
              "      <td>0.170229</td>\n",
              "      <td>0.166707</td>\n",
              "      <td>...</td>\n",
              "      <td>0.043129</td>\n",
              "      <td>0.042188</td>\n",
              "      <td>0.040256</td>\n",
              "      <td>0.039398</td>\n",
              "      <td>0.038536</td>\n",
              "      <td>0.037718</td>\n",
              "      <td>0.035904</td>\n",
              "      <td>0.035523</td>\n",
              "      <td>0.035267</td>\n",
              "      <td>1.143469</td>\n",
              "    </tr>\n",
              "    <tr>\n",
              "      <th>min</th>\n",
              "      <td>0.000000</td>\n",
              "      <td>0.000000</td>\n",
              "      <td>0.000000</td>\n",
              "      <td>0.000000</td>\n",
              "      <td>0.000000</td>\n",
              "      <td>0.000000</td>\n",
              "      <td>0.000000</td>\n",
              "      <td>0.000000</td>\n",
              "      <td>0.000000</td>\n",
              "      <td>0.000000</td>\n",
              "      <td>...</td>\n",
              "      <td>0.000000</td>\n",
              "      <td>0.000000</td>\n",
              "      <td>0.000000</td>\n",
              "      <td>0.000000</td>\n",
              "      <td>0.000000</td>\n",
              "      <td>0.000000</td>\n",
              "      <td>0.000000</td>\n",
              "      <td>0.000000</td>\n",
              "      <td>0.000000</td>\n",
              "      <td>0.000000</td>\n",
              "    </tr>\n",
              "    <tr>\n",
              "      <th>25%</th>\n",
              "      <td>0.924254</td>\n",
              "      <td>0.683355</td>\n",
              "      <td>0.251220</td>\n",
              "      <td>0.050514</td>\n",
              "      <td>0.082873</td>\n",
              "      <td>0.087912</td>\n",
              "      <td>0.072678</td>\n",
              "      <td>0.066003</td>\n",
              "      <td>0.064516</td>\n",
              "      <td>0.068506</td>\n",
              "      <td>...</td>\n",
              "      <td>0.000000</td>\n",
              "      <td>0.000000</td>\n",
              "      <td>0.000000</td>\n",
              "      <td>0.000000</td>\n",
              "      <td>0.000000</td>\n",
              "      <td>0.000000</td>\n",
              "      <td>0.000000</td>\n",
              "      <td>0.000000</td>\n",
              "      <td>0.000000</td>\n",
              "      <td>0.000000</td>\n",
              "    </tr>\n",
              "    <tr>\n",
              "      <th>50%</th>\n",
              "      <td>0.990431</td>\n",
              "      <td>0.828996</td>\n",
              "      <td>0.432781</td>\n",
              "      <td>0.167641</td>\n",
              "      <td>0.147651</td>\n",
              "      <td>0.158120</td>\n",
              "      <td>0.144068</td>\n",
              "      <td>0.144509</td>\n",
              "      <td>0.150442</td>\n",
              "      <td>0.149038</td>\n",
              "      <td>...</td>\n",
              "      <td>0.000000</td>\n",
              "      <td>0.000000</td>\n",
              "      <td>0.000000</td>\n",
              "      <td>0.000000</td>\n",
              "      <td>0.000000</td>\n",
              "      <td>0.000000</td>\n",
              "      <td>0.000000</td>\n",
              "      <td>0.000000</td>\n",
              "      <td>0.000000</td>\n",
              "      <td>0.000000</td>\n",
              "    </tr>\n",
              "    <tr>\n",
              "      <th>75%</th>\n",
              "      <td>1.000000</td>\n",
              "      <td>0.912320</td>\n",
              "      <td>0.583994</td>\n",
              "      <td>0.347097</td>\n",
              "      <td>0.259227</td>\n",
              "      <td>0.287356</td>\n",
              "      <td>0.298456</td>\n",
              "      <td>0.294566</td>\n",
              "      <td>0.289907</td>\n",
              "      <td>0.282966</td>\n",
              "      <td>...</td>\n",
              "      <td>0.000000</td>\n",
              "      <td>0.000000</td>\n",
              "      <td>0.000000</td>\n",
              "      <td>0.000000</td>\n",
              "      <td>0.000000</td>\n",
              "      <td>0.000000</td>\n",
              "      <td>0.000000</td>\n",
              "      <td>0.000000</td>\n",
              "      <td>0.000000</td>\n",
              "      <td>0.000000</td>\n",
              "    </tr>\n",
              "    <tr>\n",
              "      <th>max</th>\n",
              "      <td>1.000000</td>\n",
              "      <td>1.000000</td>\n",
              "      <td>1.000000</td>\n",
              "      <td>1.000000</td>\n",
              "      <td>1.000000</td>\n",
              "      <td>1.000000</td>\n",
              "      <td>1.000000</td>\n",
              "      <td>1.000000</td>\n",
              "      <td>1.000000</td>\n",
              "      <td>0.991429</td>\n",
              "      <td>...</td>\n",
              "      <td>0.980392</td>\n",
              "      <td>1.000000</td>\n",
              "      <td>0.966102</td>\n",
              "      <td>1.000000</td>\n",
              "      <td>1.000000</td>\n",
              "      <td>1.000000</td>\n",
              "      <td>1.000000</td>\n",
              "      <td>0.996053</td>\n",
              "      <td>1.000000</td>\n",
              "      <td>4.000000</td>\n",
              "    </tr>\n",
              "  </tbody>\n",
              "</table>\n",
              "<p>8 rows × 188 columns</p>\n",
              "</div>\n",
              "    <div class=\"colab-df-buttons\">\n",
              "\n",
              "  <div class=\"colab-df-container\">\n",
              "    <button class=\"colab-df-convert\" onclick=\"convertToInteractive('df-4b27bd27-c91d-468b-96b4-b4d74f8ce368')\"\n",
              "            title=\"Convert this dataframe to an interactive table.\"\n",
              "            style=\"display:none;\">\n",
              "\n",
              "  <svg xmlns=\"http://www.w3.org/2000/svg\" height=\"24px\" viewBox=\"0 -960 960 960\">\n",
              "    <path d=\"M120-120v-720h720v720H120Zm60-500h600v-160H180v160Zm220 220h160v-160H400v160Zm0 220h160v-160H400v160ZM180-400h160v-160H180v160Zm440 0h160v-160H620v160ZM180-180h160v-160H180v160Zm440 0h160v-160H620v160Z\"/>\n",
              "  </svg>\n",
              "    </button>\n",
              "\n",
              "  <style>\n",
              "    .colab-df-container {\n",
              "      display:flex;\n",
              "      gap: 12px;\n",
              "    }\n",
              "\n",
              "    .colab-df-convert {\n",
              "      background-color: #E8F0FE;\n",
              "      border: none;\n",
              "      border-radius: 50%;\n",
              "      cursor: pointer;\n",
              "      display: none;\n",
              "      fill: #1967D2;\n",
              "      height: 32px;\n",
              "      padding: 0 0 0 0;\n",
              "      width: 32px;\n",
              "    }\n",
              "\n",
              "    .colab-df-convert:hover {\n",
              "      background-color: #E2EBFA;\n",
              "      box-shadow: 0px 1px 2px rgba(60, 64, 67, 0.3), 0px 1px 3px 1px rgba(60, 64, 67, 0.15);\n",
              "      fill: #174EA6;\n",
              "    }\n",
              "\n",
              "    .colab-df-buttons div {\n",
              "      margin-bottom: 4px;\n",
              "    }\n",
              "\n",
              "    [theme=dark] .colab-df-convert {\n",
              "      background-color: #3B4455;\n",
              "      fill: #D2E3FC;\n",
              "    }\n",
              "\n",
              "    [theme=dark] .colab-df-convert:hover {\n",
              "      background-color: #434B5C;\n",
              "      box-shadow: 0px 1px 3px 1px rgba(0, 0, 0, 0.15);\n",
              "      filter: drop-shadow(0px 1px 2px rgba(0, 0, 0, 0.3));\n",
              "      fill: #FFFFFF;\n",
              "    }\n",
              "  </style>\n",
              "\n",
              "    <script>\n",
              "      const buttonEl =\n",
              "        document.querySelector('#df-4b27bd27-c91d-468b-96b4-b4d74f8ce368 button.colab-df-convert');\n",
              "      buttonEl.style.display =\n",
              "        google.colab.kernel.accessAllowed ? 'block' : 'none';\n",
              "\n",
              "      async function convertToInteractive(key) {\n",
              "        const element = document.querySelector('#df-4b27bd27-c91d-468b-96b4-b4d74f8ce368');\n",
              "        const dataTable =\n",
              "          await google.colab.kernel.invokeFunction('convertToInteractive',\n",
              "                                                    [key], {});\n",
              "        if (!dataTable) return;\n",
              "\n",
              "        const docLinkHtml = 'Like what you see? Visit the ' +\n",
              "          '<a target=\"_blank\" href=https://colab.research.google.com/notebooks/data_table.ipynb>data table notebook</a>'\n",
              "          + ' to learn more about interactive tables.';\n",
              "        element.innerHTML = '';\n",
              "        dataTable['output_type'] = 'display_data';\n",
              "        await google.colab.output.renderOutput(dataTable, element);\n",
              "        const docLink = document.createElement('div');\n",
              "        docLink.innerHTML = docLinkHtml;\n",
              "        element.appendChild(docLink);\n",
              "      }\n",
              "    </script>\n",
              "  </div>\n",
              "\n",
              "\n",
              "<div id=\"df-a4f9bc47-fe28-474f-a901-9d8b49e093b1\">\n",
              "  <button class=\"colab-df-quickchart\" onclick=\"quickchart('df-a4f9bc47-fe28-474f-a901-9d8b49e093b1')\"\n",
              "            title=\"Suggest charts\"\n",
              "            style=\"display:none;\">\n",
              "\n",
              "<svg xmlns=\"http://www.w3.org/2000/svg\" height=\"24px\"viewBox=\"0 0 24 24\"\n",
              "     width=\"24px\">\n",
              "    <g>\n",
              "        <path d=\"M19 3H5c-1.1 0-2 .9-2 2v14c0 1.1.9 2 2 2h14c1.1 0 2-.9 2-2V5c0-1.1-.9-2-2-2zM9 17H7v-7h2v7zm4 0h-2V7h2v10zm4 0h-2v-4h2v4z\"/>\n",
              "    </g>\n",
              "</svg>\n",
              "  </button>\n",
              "\n",
              "<style>\n",
              "  .colab-df-quickchart {\n",
              "      --bg-color: #E8F0FE;\n",
              "      --fill-color: #1967D2;\n",
              "      --hover-bg-color: #E2EBFA;\n",
              "      --hover-fill-color: #174EA6;\n",
              "      --disabled-fill-color: #AAA;\n",
              "      --disabled-bg-color: #DDD;\n",
              "  }\n",
              "\n",
              "  [theme=dark] .colab-df-quickchart {\n",
              "      --bg-color: #3B4455;\n",
              "      --fill-color: #D2E3FC;\n",
              "      --hover-bg-color: #434B5C;\n",
              "      --hover-fill-color: #FFFFFF;\n",
              "      --disabled-bg-color: #3B4455;\n",
              "      --disabled-fill-color: #666;\n",
              "  }\n",
              "\n",
              "  .colab-df-quickchart {\n",
              "    background-color: var(--bg-color);\n",
              "    border: none;\n",
              "    border-radius: 50%;\n",
              "    cursor: pointer;\n",
              "    display: none;\n",
              "    fill: var(--fill-color);\n",
              "    height: 32px;\n",
              "    padding: 0;\n",
              "    width: 32px;\n",
              "  }\n",
              "\n",
              "  .colab-df-quickchart:hover {\n",
              "    background-color: var(--hover-bg-color);\n",
              "    box-shadow: 0 1px 2px rgba(60, 64, 67, 0.3), 0 1px 3px 1px rgba(60, 64, 67, 0.15);\n",
              "    fill: var(--button-hover-fill-color);\n",
              "  }\n",
              "\n",
              "  .colab-df-quickchart-complete:disabled,\n",
              "  .colab-df-quickchart-complete:disabled:hover {\n",
              "    background-color: var(--disabled-bg-color);\n",
              "    fill: var(--disabled-fill-color);\n",
              "    box-shadow: none;\n",
              "  }\n",
              "\n",
              "  .colab-df-spinner {\n",
              "    border: 2px solid var(--fill-color);\n",
              "    border-color: transparent;\n",
              "    border-bottom-color: var(--fill-color);\n",
              "    animation:\n",
              "      spin 1s steps(1) infinite;\n",
              "  }\n",
              "\n",
              "  @keyframes spin {\n",
              "    0% {\n",
              "      border-color: transparent;\n",
              "      border-bottom-color: var(--fill-color);\n",
              "      border-left-color: var(--fill-color);\n",
              "    }\n",
              "    20% {\n",
              "      border-color: transparent;\n",
              "      border-left-color: var(--fill-color);\n",
              "      border-top-color: var(--fill-color);\n",
              "    }\n",
              "    30% {\n",
              "      border-color: transparent;\n",
              "      border-left-color: var(--fill-color);\n",
              "      border-top-color: var(--fill-color);\n",
              "      border-right-color: var(--fill-color);\n",
              "    }\n",
              "    40% {\n",
              "      border-color: transparent;\n",
              "      border-right-color: var(--fill-color);\n",
              "      border-top-color: var(--fill-color);\n",
              "    }\n",
              "    60% {\n",
              "      border-color: transparent;\n",
              "      border-right-color: var(--fill-color);\n",
              "    }\n",
              "    80% {\n",
              "      border-color: transparent;\n",
              "      border-right-color: var(--fill-color);\n",
              "      border-bottom-color: var(--fill-color);\n",
              "    }\n",
              "    90% {\n",
              "      border-color: transparent;\n",
              "      border-bottom-color: var(--fill-color);\n",
              "    }\n",
              "  }\n",
              "</style>\n",
              "\n",
              "  <script>\n",
              "    async function quickchart(key) {\n",
              "      const quickchartButtonEl =\n",
              "        document.querySelector('#' + key + ' button');\n",
              "      quickchartButtonEl.disabled = true;  // To prevent multiple clicks.\n",
              "      quickchartButtonEl.classList.add('colab-df-spinner');\n",
              "      try {\n",
              "        const charts = await google.colab.kernel.invokeFunction(\n",
              "            'suggestCharts', [key], {});\n",
              "      } catch (error) {\n",
              "        console.error('Error during call to suggestCharts:', error);\n",
              "      }\n",
              "      quickchartButtonEl.classList.remove('colab-df-spinner');\n",
              "      quickchartButtonEl.classList.add('colab-df-quickchart-complete');\n",
              "    }\n",
              "    (() => {\n",
              "      let quickchartButtonEl =\n",
              "        document.querySelector('#df-a4f9bc47-fe28-474f-a901-9d8b49e093b1 button');\n",
              "      quickchartButtonEl.style.display =\n",
              "        google.colab.kernel.accessAllowed ? 'block' : 'none';\n",
              "    })();\n",
              "  </script>\n",
              "</div>\n",
              "\n",
              "    </div>\n",
              "  </div>\n"
            ],
            "application/vnd.google.colaboratory.intrinsic+json": {
              "type": "dataframe"
            }
          },
          "metadata": {},
          "execution_count": 45
        }
      ]
    },
    {
      "cell_type": "code",
      "source": [
        "ecg_data.shape[0]"
      ],
      "metadata": {
        "colab": {
          "base_uri": "https://localhost:8080/"
        },
        "id": "FPDwz-xE21EP",
        "outputId": "a5dc7171-d502-4f85-cbef-71c20927ee45"
      },
      "execution_count": 46,
      "outputs": [
        {
          "output_type": "execute_result",
          "data": {
            "text/plain": [
              "21891"
            ]
          },
          "metadata": {},
          "execution_count": 46
        }
      ]
    },
    {
      "cell_type": "code",
      "source": [
        "# Preprocessing ECG Data\n",
        "X_ecg = ecg_data.iloc[:, :-1].values  # Features\n",
        "y_ecg = ecg_data.iloc[:, -1].values   # Labels\n",
        "\n",
        "# Standardizing ECG Data\n",
        "scaler = StandardScaler()\n",
        "X_ecg = scaler.fit_transform(X_ecg)"
      ],
      "metadata": {
        "id": "wq-YKsaI6CqU"
      },
      "execution_count": 5,
      "outputs": []
    },
    {
      "cell_type": "code",
      "source": [
        "# ----------------------- VISUALIZE CLASS DISTRIBUTION ------------------------\n",
        "def plot_donut_chart(y, title):\n",
        "    labels = [\"Non-Ectopic Beat\", \"Fusion Beat\", \"Ventricular Beat\", \"Superventricular\", \"Unknown\"]\n",
        "    unique, counts = np.unique(y, return_counts=True)\n",
        "    class_counts = dict(zip(unique, counts))\n",
        "\n",
        "    plt.figure(figsize=(6,6))\n",
        "    plt.pie(class_counts.values(), labels=labels, autopct='%1.1f%%', startangle=90, pctdistance=0.85, colors=['blue', 'orange', 'red', 'green', 'purple'])\n",
        "    plt.gca().add_artist(plt.Circle((0,0), 0.70, fc='white'))  # Create Donut Effect\n",
        "    plt.title(title)\n",
        "    plt.show()\n",
        "\n",
        "\n",
        "# Plot Before Balancing\n",
        "plot_donut_chart(y_ecg, \"Class Distribution Before Balancing\")\n"
      ],
      "metadata": {
        "colab": {
          "base_uri": "https://localhost:8080/",
          "height": 521
        },
        "id": "y-8n1Nfrz4cd",
        "outputId": "66e7a386-7362-4983-c131-0bcbf6e141dd"
      },
      "execution_count": 8,
      "outputs": [
        {
          "output_type": "display_data",
          "data": {
            "text/plain": [
              "<Figure size 600x600 with 1 Axes>"
            ],
            "image/png": "[encoded data removed]"
          },
          "metadata": {}
        }
      ]
    },
    {
      "cell_type": "markdown",
      "source": [
        "# DATA AUGMENTATION FOR ECG"
      ],
      "metadata": {
        "id": "HsifKjGoz-_b"
      }
    },
    {
      "cell_type": "code",
      "source": [
        "from sklearn.utils import resample\n",
        "# Function to apply Jittering, Scaling, and Time-Warping\n",
        "def augment_ecg(signal):\n",
        "    noise = np.random.normal(0, 0.01, signal.shape)  # Jittering\n",
        "    scaling_factor = np.random.uniform(0.9, 1.1)  # Scaling\n",
        "    return (signal + noise) * scaling_factor\n",
        "\n",
        "# Resample Minority Classes\n",
        "def balance_data(X, y):\n",
        "    df = pd.DataFrame(X)\n",
        "    df['label'] = y\n",
        "\n",
        "    df_majority = df[df['label'] == 0]  # Non-Ectopic Beat (majority)\n",
        "    df_fusion = df[df['label'] == 1]\n",
        "    df_ventricular = df[df['label'] == 2]\n",
        "    df_superventricular = df[df['label'] == 3]\n",
        "    df_unknown = df[df['label'] == 4]\n",
        "\n",
        "    target_size = len(df_majority)  # Make all classes match the majority class\n",
        "\n",
        "\n",
        "    # Upsample Minority Classes\n",
        "    df_fusion = resample(df_fusion, replace=True, n_samples=target_size, random_state=42)\n",
        "    df_ventricular = resample(df_ventricular, replace=True, n_samples=target_size, random_state=42)\n",
        "    df_superventricular = resample(df_superventricular, replace=True, n_samples=target_size, random_state=42)\n",
        "    df_unknown = resample(df_unknown, replace=True, n_samples=target_size, random_state=42)\n",
        "\n",
        "\n",
        "    # Apply Augmentation\n",
        "    df_fusion.iloc[:, :-1] = df_fusion.iloc[:, :-1].apply(augment_ecg, axis=1)\n",
        "    df_ventricular.iloc[:, :-1] = df_ventricular.iloc[:, :-1].apply(augment_ecg, axis=1)\n",
        "    df_superventricular.iloc[:, :-1] = df_superventricular.iloc[:, :-1].apply(augment_ecg, axis=1)\n",
        "    df_unknown.iloc[:, :-1] = df_unknown.iloc[:, :-1].apply(augment_ecg, axis=1)\n",
        "\n",
        "    # Combine Data\n",
        "    df_balanced = pd.concat([df_majority, df_fusion, df_ventricular, df_superventricular, df_unknown])\n",
        "    return df_balanced.iloc[:, :-1].values, df_balanced.iloc[:, -1].values"
      ],
      "metadata": {
        "id": "uGNyHr-xz5gJ"
      },
      "execution_count": 9,
      "outputs": []
    },
    {
      "cell_type": "code",
      "source": [
        "# Balance Data & Apply Augmentation\n",
        "X_train, y_train = balance_data(X_ecg, y_ecg)\n"
      ],
      "metadata": {
        "id": "8vzOAOrL0Gqw"
      },
      "execution_count": 10,
      "outputs": []
    },
    {
      "cell_type": "code",
      "source": [
        "# Plot After Balancing\n",
        "plot_donut_chart(y_train, \"Class Distribution After Balancing\")"
      ],
      "metadata": {
        "colab": {
          "base_uri": "https://localhost:8080/",
          "height": 521
        },
        "id": "JykObrkQ0Kip",
        "outputId": "4bd68a27-b7be-4343-ef02-8aa7a2529f42"
      },
      "execution_count": 11,
      "outputs": [
        {
          "output_type": "display_data",
          "data": {
            "text/plain": [
              "<Figure size 600x600 with 1 Axes>"
            ],
            "image/png": "[encoded data removed]"
          },
          "metadata": {}
        }
      ]
    },
    {
      "cell_type": "markdown",
      "source": [
        "# **Spliting into train and test**"
      ],
      "metadata": {
        "id": "lDXWY88gl-DD"
      }
    },
    {
      "cell_type": "code",
      "source": [
        "# Train-Test Split\n",
        "X_ecg_train, X_ecg_test, y_ecg_train, y_ecg_test = train_test_split(X_train, y_train, test_size=0.2, random_state=42)\n",
        "\n",
        "def add_jitter(X, noise_level=0.05):\n",
        "    return X + noise_level * np.random.normal(size=X.shape)\n",
        "X_ecg_train = add_jitter(X_ecg_train)\n",
        "\n"
      ],
      "metadata": {
        "id": "VEbfCAv0BtqJ"
      },
      "execution_count": 12,
      "outputs": []
    },
    {
      "cell_type": "code",
      "source": [
        "# Now, split Train into Train and Validation\n",
        "X_ecg_train, X_ecg_val, y_ecg_train, y_ecg_val = train_test_split(\n",
        "    X_ecg_train, y_ecg_train, test_size=0.2, random_state=42  # 20% of train is validation\n",
        ")"
      ],
      "metadata": {
        "id": "iQetckT3yhy-"
      },
      "execution_count": 13,
      "outputs": []
    },
    {
      "cell_type": "code",
      "source": [
        "#Convert Data to Torch Tensors for ecg\n",
        "X_ecg_train, X_ecg_test = torch.tensor(X_ecg_train, dtype=torch.float32), torch.tensor(X_ecg_test, dtype=torch.float32)\n",
        "y_ecg_train, y_ecg_test = torch.tensor(y_ecg_train, dtype=torch.long), torch.tensor(y_ecg_test, dtype=torch.long)\n"
      ],
      "metadata": {
        "id": "ByM9jEa6Ds_w",
        "colab": {
          "base_uri": "https://localhost:8080/"
        },
        "outputId": "d6ac1477-f46d-4811-c7ec-bca4b9cd93c1"
      },
      "execution_count": 17,
      "outputs": [
        {
          "output_type": "stream",
          "name": "stderr",
          "text": [
            "<ipython-input-17-621c694b4b33>:2: UserWarning: To copy construct from a tensor, it is recommended to use sourceTensor.clone().detach() or sourceTensor.clone().detach().requires_grad_(True), rather than torch.tensor(sourceTensor).\n",
            "  X_ecg_train, X_ecg_test = torch.tensor(X_ecg_train, dtype=torch.float32), torch.tensor(X_ecg_test, dtype=torch.float32)\n",
            "<ipython-input-17-621c694b4b33>:3: UserWarning: To copy construct from a tensor, it is recommended to use sourceTensor.clone().detach() or sourceTensor.clone().detach().requires_grad_(True), rather than torch.tensor(sourceTensor).\n",
            "  y_ecg_train, y_ecg_test = torch.tensor(y_ecg_train, dtype=torch.long), torch.tensor(y_ecg_test, dtype=torch.long)\n"
          ]
        }
      ]
    },
    {
      "cell_type": "code",
      "source": [
        "# Convert Data to Torch Tensors (Train, Validation, and Test)\n",
        "X_ecg_train = torch.tensor(X_ecg_train, dtype=torch.float32)\n",
        "X_ecg_val = torch.tensor(X_ecg_val, dtype=torch.float32)\n",
        "X_ecg_test = torch.tensor(X_ecg_test, dtype=torch.float32)\n",
        "\n",
        "y_ecg_train = torch.tensor(y_ecg_train, dtype=torch.long)\n",
        "y_ecg_val = torch.tensor(y_ecg_val, dtype=torch.long)\n",
        "y_ecg_test = torch.tensor(y_ecg_test, dtype=torch.long)\n"
      ],
      "metadata": {
        "id": "Udba_ukFy4yo",
        "colab": {
          "base_uri": "https://localhost:8080/"
        },
        "outputId": "2ad0870a-a179-44c1-ca8b-1085fb979bb3"
      },
      "execution_count": 18,
      "outputs": [
        {
          "output_type": "stream",
          "name": "stderr",
          "text": [
            "<ipython-input-18-da63aa9d174b>:2: UserWarning: To copy construct from a tensor, it is recommended to use sourceTensor.clone().detach() or sourceTensor.clone().detach().requires_grad_(True), rather than torch.tensor(sourceTensor).\n",
            "  X_ecg_train = torch.tensor(X_ecg_train, dtype=torch.float32)\n",
            "<ipython-input-18-da63aa9d174b>:3: UserWarning: To copy construct from a tensor, it is recommended to use sourceTensor.clone().detach() or sourceTensor.clone().detach().requires_grad_(True), rather than torch.tensor(sourceTensor).\n",
            "  X_ecg_val = torch.tensor(X_ecg_val, dtype=torch.float32)\n",
            "<ipython-input-18-da63aa9d174b>:4: UserWarning: To copy construct from a tensor, it is recommended to use sourceTensor.clone().detach() or sourceTensor.clone().detach().requires_grad_(True), rather than torch.tensor(sourceTensor).\n",
            "  X_ecg_test = torch.tensor(X_ecg_test, dtype=torch.float32)\n",
            "<ipython-input-18-da63aa9d174b>:6: UserWarning: To copy construct from a tensor, it is recommended to use sourceTensor.clone().detach() or sourceTensor.clone().detach().requires_grad_(True), rather than torch.tensor(sourceTensor).\n",
            "  y_ecg_train = torch.tensor(y_ecg_train, dtype=torch.long)\n",
            "<ipython-input-18-da63aa9d174b>:7: UserWarning: To copy construct from a tensor, it is recommended to use sourceTensor.clone().detach() or sourceTensor.clone().detach().requires_grad_(True), rather than torch.tensor(sourceTensor).\n",
            "  y_ecg_val = torch.tensor(y_ecg_val, dtype=torch.long)\n",
            "<ipython-input-18-da63aa9d174b>:8: UserWarning: To copy construct from a tensor, it is recommended to use sourceTensor.clone().detach() or sourceTensor.clone().detach().requires_grad_(True), rather than torch.tensor(sourceTensor).\n",
            "  y_ecg_test = torch.tensor(y_ecg_test, dtype=torch.long)\n"
          ]
        }
      ]
    },
    {
      "cell_type": "markdown",
      "source": [
        "# convert to graph"
      ],
      "metadata": {
        "id": "gw-061000NDR"
      }
    },
    {
      "cell_type": "code",
      "source": [
        "from sklearn.neighbors import kneighbors_graph\n",
        "def create_ecg_graph_knn(X, y, k=5):\n",
        "    adj_matrix = kneighbors_graph(X, k, mode='connectivity', include_self=True).toarray()\n",
        "    edge_index = np.array(np.nonzero(adj_matrix))\n",
        "\n",
        "    node_features = torch.tensor(X, dtype=torch.float32)\n",
        "    labels = torch.tensor(y, dtype=torch.long)\n",
        "\n",
        "    graph = Data(x=node_features, edge_index=torch.tensor(edge_index, dtype=torch.long), y=labels)\n",
        "    return graph\n",
        "\n",
        "# Create ECG Graphs for Train & Test Data\n",
        "# Create ECG Graphs for Train & Test Data\n",
        "ecg_train_graph = create_ecg_graph_knn(X_ecg_train, y_ecg_train)\n",
        "ecg_test_graph = create_ecg_graph_knn(X_ecg_test, y_ecg_test)\n",
        "\n"
      ],
      "metadata": {
        "id": "tKZc4Rx0mpLe",
        "colab": {
          "base_uri": "https://localhost:8080/"
        },
        "outputId": "80233e94-e722-41a3-fe98-830d28d02b02"
      },
      "execution_count": 20,
      "outputs": [
        {
          "output_type": "stream",
          "name": "stderr",
          "text": [
            "<ipython-input-20-af90cc2e3e89>:6: UserWarning: To copy construct from a tensor, it is recommended to use sourceTensor.clone().detach() or sourceTensor.clone().detach().requires_grad_(True), rather than torch.tensor(sourceTensor).\n",
            "  node_features = torch.tensor(X, dtype=torch.float32)\n",
            "<ipython-input-20-af90cc2e3e89>:7: UserWarning: To copy construct from a tensor, it is recommended to use sourceTensor.clone().detach() or sourceTensor.clone().detach().requires_grad_(True), rather than torch.tensor(sourceTensor).\n",
            "  labels = torch.tensor(y, dtype=torch.long)\n",
            "<ipython-input-20-af90cc2e3e89>:6: UserWarning: To copy construct from a tensor, it is recommended to use sourceTensor.clone().detach() or sourceTensor.clone().detach().requires_grad_(True), rather than torch.tensor(sourceTensor).\n",
            "  node_features = torch.tensor(X, dtype=torch.float32)\n",
            "<ipython-input-20-af90cc2e3e89>:7: UserWarning: To copy construct from a tensor, it is recommended to use sourceTensor.clone().detach() or sourceTensor.clone().detach().requires_grad_(True), rather than torch.tensor(sourceTensor).\n",
            "  labels = torch.tensor(y, dtype=torch.long)\n"
          ]
        }
      ]
    },
    {
      "cell_type": "code",
      "source": [
        "# Create Graphs\n",
        "ecg_train_graph = create_ecg_graph_knn(X_ecg_train, y_ecg_train)\n",
        "ecg_val_graph = create_ecg_graph_knn(X_ecg_val, y_ecg_val)\n",
        "ecg_test_graph = create_ecg_graph_knn(X_ecg_test, y_ecg_test)"
      ],
      "metadata": {
        "colab": {
          "base_uri": "https://localhost:8080/"
        },
        "id": "XdKWEifUy_qU",
        "outputId": "8ce314e2-9619-45f9-c967-6152d4a0bd47",
        "collapsed": true
      },
      "execution_count": 21,
      "outputs": [
        {
          "output_type": "stream",
          "name": "stderr",
          "text": [
            "<ipython-input-20-af90cc2e3e89>:6: UserWarning: To copy construct from a tensor, it is recommended to use sourceTensor.clone().detach() or sourceTensor.clone().detach().requires_grad_(True), rather than torch.tensor(sourceTensor).\n",
            "  node_features = torch.tensor(X, dtype=torch.float32)\n",
            "<ipython-input-20-af90cc2e3e89>:7: UserWarning: To copy construct from a tensor, it is recommended to use sourceTensor.clone().detach() or sourceTensor.clone().detach().requires_grad_(True), rather than torch.tensor(sourceTensor).\n",
            "  labels = torch.tensor(y, dtype=torch.long)\n",
            "<ipython-input-20-af90cc2e3e89>:6: UserWarning: To copy construct from a tensor, it is recommended to use sourceTensor.clone().detach() or sourceTensor.clone().detach().requires_grad_(True), rather than torch.tensor(sourceTensor).\n",
            "  node_features = torch.tensor(X, dtype=torch.float32)\n",
            "<ipython-input-20-af90cc2e3e89>:7: UserWarning: To copy construct from a tensor, it is recommended to use sourceTensor.clone().detach() or sourceTensor.clone().detach().requires_grad_(True), rather than torch.tensor(sourceTensor).\n",
            "  labels = torch.tensor(y, dtype=torch.long)\n",
            "<ipython-input-20-af90cc2e3e89>:6: UserWarning: To copy construct from a tensor, it is recommended to use sourceTensor.clone().detach() or sourceTensor.clone().detach().requires_grad_(True), rather than torch.tensor(sourceTensor).\n",
            "  node_features = torch.tensor(X, dtype=torch.float32)\n",
            "<ipython-input-20-af90cc2e3e89>:7: UserWarning: To copy construct from a tensor, it is recommended to use sourceTensor.clone().detach() or sourceTensor.clone().detach().requires_grad_(True), rather than torch.tensor(sourceTensor).\n",
            "  labels = torch.tensor(y, dtype=torch.long)\n"
          ]
        }
      ]
    },
    {
      "cell_type": "markdown",
      "source": [
        "# DEFINE TRAIN TEMPORAL GRAPH NETWORK (TGN)"
      ],
      "metadata": {
        "id": "L7MfKpe00fDv"
      }
    },
    {
      "cell_type": "code",
      "source": [
        "import torch_geometric\n",
        "from torch_geometric.data import Data\n",
        "from torch_geometric.utils import from_networkx\n",
        "import networkx as nx\n",
        "import torch\n",
        "import torch.nn as nn\n",
        "import torch.optim as optim\n",
        "from torch_geometric.nn import GCNConv"
      ],
      "metadata": {
        "id": "mS7bJ4Rr41XI"
      },
      "execution_count": 22,
      "outputs": []
    },
    {
      "cell_type": "code",
      "source": [
        "# Define the TGN model\n",
        "class TGN(nn.Module):\n",
        "    def __init__(self, in_dim, hidden_dim):\n",
        "        super(TGN, self).__init__()\n",
        "        self.conv1 = GCNConv(in_dim, hidden_dim)\n",
        "        self.conv2 = GCNConv(hidden_dim, hidden_dim)\n",
        "\n",
        "    def forward(self, x, edge_index):\n",
        "        x = self.conv1(x, edge_index).relu()\n",
        "        x = self.conv2(x, edge_index)\n",
        "        return x\n"
      ],
      "metadata": {
        "id": "qv32Avq8gEZ9"
      },
      "execution_count": 23,
      "outputs": []
    },
    {
      "cell_type": "code",
      "source": [
        "class ECG_TGN(nn.Module):\n",
        "    def __init__(self, input_dim, hidden_dim, output_dim):\n",
        "        super(ECG_TGN, self).__init__()\n",
        "        self.conv1 = GCNConv(input_dim, hidden_dim)\n",
        "        self.conv2 = GCNConv(hidden_dim, hidden_dim)\n",
        "        self.fc = nn.Linear(hidden_dim, output_dim)\n",
        "        self.dropout = nn.Dropout(0.3)  # Prevent Overfitting\n",
        "        self.bn = nn.BatchNorm1d(hidden_dim)  # Normalize\n",
        "\n",
        "    def forward(self, data):\n",
        "        x, edge_index = data.x, data.edge_index\n",
        "        x = self.conv1(x, edge_index)\n",
        "        x = self.bn(F.relu(x))\n",
        "        x = self.conv2(x, edge_index)\n",
        "        x = self.dropout(F.relu(x))\n",
        "        x = self.fc(x)\n",
        "        return x\n"
      ],
      "metadata": {
        "id": "yx-IRN1z0f4G"
      },
      "execution_count": 24,
      "outputs": []
    },
    {
      "cell_type": "markdown",
      "source": [
        "# Model Initialization and training"
      ],
      "metadata": {
        "id": "u75q6sCVmsaJ"
      }
    },
    {
      "cell_type": "code",
      "source": [
        "# Model Initialization\n",
        "ecg_model = ECG_TGN(input_dim=187, hidden_dim= 256, output_dim=5)\n",
        "#clinical_model = Clinical_GAT(input_dim=X_clinical.shape[1], hidden_dim=64, output_dim=5)"
      ],
      "metadata": {
        "id": "CVcK6tRghISc"
      },
      "execution_count": 25,
      "outputs": []
    },
    {
      "cell_type": "code",
      "source": [
        "# Define Optimization and Loss Function\n",
        "criterion = nn.CrossEntropyLoss()\n",
        "ecg_optimizer = torch.optim.AdamW(ecg_model.parameters(), lr=0.0009, weight_decay=1e-4)\n",
        "#ecg_optimizer = optim.Adam(ecg_model.parameters(), lr=0.001)\n",
        "#clinical_optimizer = optim.Adam(clinical_model.parameters(), lr=0.001)"
      ],
      "metadata": {
        "id": "u8bLrVfqhV7a"
      },
      "execution_count": 32,
      "outputs": []
    },
    {
      "cell_type": "code",
      "source": [
        "from torchvision.ops import sigmoid_focal_loss  # Torchvision's focal loss\n",
        "import torch.nn.functional as F\n",
        "from torchvision.ops import sigmoid_focal_loss\n",
        "\n",
        "# Function to convert class indices to one-hot\n",
        "def one_hot_encoding(y, num_classes):\n",
        "    return F.one_hot(y, num_classes=num_classes).float()  # Convert to float for Focal Loss\n"
      ],
      "metadata": {
        "id": "BNBWrkr4nwxz"
      },
      "execution_count": 27,
      "outputs": []
    },
    {
      "cell_type": "code",
      "source": [
        "def train_model_ecg(model, optimizer, data, epochs=10):\n",
        "    model.train()\n",
        "    for epoch in range(epochs):\n",
        "        optimizer.zero_grad()\n",
        "        output = model(data)  # Now passing the entire graph data\n",
        "        # Convert target labels to one-hot\n",
        "        target_one_hot = one_hot_encoding(data.y, num_classes)\n",
        "        loss = sigmoid_focal_loss(output, target_one_hot, alpha=0.25, gamma=2.0, reduction=\"mean\")\n",
        "        loss.backward()\n",
        "        optimizer.step()\n",
        "        print(f\"Epoch {epoch+1}/{epochs}, Loss: {loss.item():.4f}\")\n",
        "\n",
        "\n",
        "# def train_model_clinal(model, optimizer, data, epochs=10):\n",
        "#     model.train()\n",
        "#     for epoch in range(epochs):\n",
        "#         optimizer.zero_grad()\n",
        "#         output = model(data.x, data.edge_index)  # Pass both node features and edge index\n",
        "#         loss = criterion(output, data.y)\n",
        "#         loss.backward()\n",
        "#         optimizer.step()\n",
        "#         print(f\"Epoch {epoch+1}/{epochs}, Loss: {loss.item():.4f}\")\n"
      ],
      "metadata": {
        "id": "SLZ6t3BRhaxR"
      },
      "execution_count": 28,
      "outputs": []
    },
    {
      "cell_type": "code",
      "source": [
        "# Training function with early stopping\n",
        "def train_model_ecg(model, optimizer, train_data, val_data, num_classes, epochs=50, patience=5):\n",
        "    model.train()\n",
        "    best_val_loss = float(\"inf\")  # Track the best validation loss\n",
        "    no_improve_count = 0  # Count epochs without improvement\n",
        "\n",
        "    for epoch in range(epochs):\n",
        "        optimizer.zero_grad()\n",
        "        output = model(train_data)  # Forward pass\n",
        "\n",
        "        # Convert labels to one-hot\n",
        "        target_one_hot = one_hot_encoding(train_data.y, num_classes)\n",
        "\n",
        "        # Compute Focal Loss\n",
        "        loss = sigmoid_focal_loss(output, target_one_hot, alpha=0.25, gamma=2.0, reduction=\"mean\")\n",
        "        loss.backward()\n",
        "        optimizer.step()\n",
        "\n",
        "        # Validation Phase\n",
        "        model.eval()  # Set model to evaluation mode\n",
        "        with torch.no_grad():\n",
        "            val_output = model(val_data)\n",
        "            val_target_one_hot = one_hot_encoding(val_data.y, num_classes)\n",
        "            val_loss = sigmoid_focal_loss(val_output, val_target_one_hot, alpha=0.25, gamma=2.0, reduction=\"mean\")\n",
        "\n",
        "        # Print Losses\n",
        "        print(f\"Epoch {epoch+1}/{epochs}, Train Loss: {loss.item():.4f}, Val Loss: {val_loss.item():.4f}\")\n",
        "\n",
        "        # Early Stopping Logic\n",
        "        if val_loss < best_val_loss:\n",
        "            best_val_loss = val_loss\n",
        "            no_improve_count = 0  # Reset counter\n",
        "        else:\n",
        "            no_improve_count += 1  # Increment if no improvement\n",
        "\n",
        "        if no_improve_count >= patience:\n",
        "            print(f\"Early stopping triggered at epoch {epoch+1}\")\n",
        "            break  # Stop training\n",
        "\n",
        "        model.train()  # Switch back to training mode\n"
      ],
      "metadata": {
        "id": "uEX5Gn2jxoHq"
      },
      "execution_count": 33,
      "outputs": []
    },
    {
      "cell_type": "code",
      "source": [
        "num_classes = 5  # Adjust based on your dataset\n",
        "train_model_ecg(ecg_model, ecg_optimizer, ecg_train_graph, ecg_val_graph, num_classes, epochs=75, patience=5)"
      ],
      "metadata": {
        "colab": {
          "base_uri": "https://localhost:8080/"
        },
        "id": "nGaFa-_wkqKb",
        "outputId": "c6ef5aa8-a346-4c05-c96b-b822e5d3a004",
        "collapsed": true
      },
      "execution_count": 34,
      "outputs": [
        {
          "output_type": "stream",
          "name": "stdout",
          "text": [
            "Epoch 1/75, Train Loss: 0.0163, Val Loss: 0.0152\n",
            "Epoch 2/75, Train Loss: 0.0157, Val Loss: 0.0149\n",
            "Epoch 3/75, Train Loss: 0.0152, Val Loss: 0.0145\n",
            "Epoch 4/75, Train Loss: 0.0146, Val Loss: 0.0141\n",
            "Epoch 5/75, Train Loss: 0.0143, Val Loss: 0.0137\n",
            "Epoch 6/75, Train Loss: 0.0138, Val Loss: 0.0134\n",
            "Epoch 7/75, Train Loss: 0.0134, Val Loss: 0.0131\n",
            "Epoch 8/75, Train Loss: 0.0130, Val Loss: 0.0129\n",
            "Epoch 9/75, Train Loss: 0.0127, Val Loss: 0.0126\n",
            "Epoch 10/75, Train Loss: 0.0123, Val Loss: 0.0123\n",
            "Epoch 11/75, Train Loss: 0.0120, Val Loss: 0.0120\n",
            "Epoch 12/75, Train Loss: 0.0117, Val Loss: 0.0118\n",
            "Epoch 13/75, Train Loss: 0.0114, Val Loss: 0.0116\n",
            "Epoch 14/75, Train Loss: 0.0111, Val Loss: 0.0113\n",
            "Epoch 15/75, Train Loss: 0.0109, Val Loss: 0.0111\n",
            "Epoch 16/75, Train Loss: 0.0106, Val Loss: 0.0109\n",
            "Epoch 17/75, Train Loss: 0.0103, Val Loss: 0.0107\n",
            "Epoch 18/75, Train Loss: 0.0100, Val Loss: 0.0105\n",
            "Epoch 19/75, Train Loss: 0.0098, Val Loss: 0.0103\n",
            "Epoch 20/75, Train Loss: 0.0096, Val Loss: 0.0101\n",
            "Epoch 21/75, Train Loss: 0.0093, Val Loss: 0.0099\n",
            "Epoch 22/75, Train Loss: 0.0091, Val Loss: 0.0097\n",
            "Epoch 23/75, Train Loss: 0.0089, Val Loss: 0.0096\n",
            "Epoch 24/75, Train Loss: 0.0087, Val Loss: 0.0094\n",
            "Epoch 25/75, Train Loss: 0.0085, Val Loss: 0.0093\n",
            "Epoch 26/75, Train Loss: 0.0083, Val Loss: 0.0091\n",
            "Epoch 27/75, Train Loss: 0.0080, Val Loss: 0.0090\n",
            "Epoch 28/75, Train Loss: 0.0079, Val Loss: 0.0088\n",
            "Epoch 29/75, Train Loss: 0.0077, Val Loss: 0.0087\n",
            "Epoch 30/75, Train Loss: 0.0075, Val Loss: 0.0085\n",
            "Epoch 31/75, Train Loss: 0.0073, Val Loss: 0.0084\n",
            "Epoch 32/75, Train Loss: 0.0071, Val Loss: 0.0083\n",
            "Epoch 33/75, Train Loss: 0.0070, Val Loss: 0.0082\n",
            "Epoch 34/75, Train Loss: 0.0068, Val Loss: 0.0081\n",
            "Epoch 35/75, Train Loss: 0.0067, Val Loss: 0.0080\n",
            "Epoch 36/75, Train Loss: 0.0065, Val Loss: 0.0078\n",
            "Epoch 37/75, Train Loss: 0.0063, Val Loss: 0.0077\n",
            "Epoch 38/75, Train Loss: 0.0062, Val Loss: 0.0076\n",
            "Epoch 39/75, Train Loss: 0.0060, Val Loss: 0.0075\n",
            "Epoch 40/75, Train Loss: 0.0059, Val Loss: 0.0074\n",
            "Epoch 41/75, Train Loss: 0.0058, Val Loss: 0.0073\n",
            "Epoch 42/75, Train Loss: 0.0056, Val Loss: 0.0073\n",
            "Epoch 43/75, Train Loss: 0.0055, Val Loss: 0.0072\n",
            "Epoch 44/75, Train Loss: 0.0054, Val Loss: 0.0072\n",
            "Epoch 45/75, Train Loss: 0.0052, Val Loss: 0.0071\n",
            "Epoch 46/75, Train Loss: 0.0051, Val Loss: 0.0070\n",
            "Epoch 47/75, Train Loss: 0.0050, Val Loss: 0.0071\n",
            "Epoch 48/75, Train Loss: 0.0049, Val Loss: 0.0069\n",
            "Epoch 49/75, Train Loss: 0.0048, Val Loss: 0.0070\n",
            "Epoch 50/75, Train Loss: 0.0047, Val Loss: 0.0068\n",
            "Epoch 51/75, Train Loss: 0.0046, Val Loss: 0.0068\n",
            "Epoch 52/75, Train Loss: 0.0045, Val Loss: 0.0068\n",
            "Epoch 53/75, Train Loss: 0.0044, Val Loss: 0.0067\n",
            "Epoch 54/75, Train Loss: 0.0043, Val Loss: 0.0066\n",
            "Epoch 55/75, Train Loss: 0.0042, Val Loss: 0.0067\n",
            "Epoch 56/75, Train Loss: 0.0041, Val Loss: 0.0065\n",
            "Epoch 57/75, Train Loss: 0.0041, Val Loss: 0.0065\n",
            "Epoch 58/75, Train Loss: 0.0039, Val Loss: 0.0065\n",
            "Epoch 59/75, Train Loss: 0.0039, Val Loss: 0.0065\n",
            "Epoch 60/75, Train Loss: 0.0038, Val Loss: 0.0066\n",
            "Epoch 61/75, Train Loss: 0.0037, Val Loss: 0.0064\n",
            "Epoch 62/75, Train Loss: 0.0037, Val Loss: 0.0064\n",
            "Epoch 63/75, Train Loss: 0.0035, Val Loss: 0.0064\n",
            "Epoch 64/75, Train Loss: 0.0035, Val Loss: 0.0063\n",
            "Epoch 65/75, Train Loss: 0.0034, Val Loss: 0.0064\n",
            "Epoch 66/75, Train Loss: 0.0033, Val Loss: 0.0064\n",
            "Epoch 67/75, Train Loss: 0.0032, Val Loss: 0.0064\n",
            "Epoch 68/75, Train Loss: 0.0032, Val Loss: 0.0064\n",
            "Epoch 69/75, Train Loss: 0.0031, Val Loss: 0.0063\n",
            "Early stopping triggered at epoch 69\n"
          ]
        }
      ]
    },
    {
      "cell_type": "code",
      "source": [
        "torch.save(ecg_model.state_dict(), \"ecg_model.pth\")\n"
      ],
      "metadata": {
        "id": "EOdPgJxqAQ_f"
      },
      "execution_count": 40,
      "outputs": []
    },
    {
      "cell_type": "code",
      "source": [
        "#to load model\n",
        "ecg_model.load_state_dict(torch.load(\"ecg_model.pth\"))\n",
        "ecg_model.eval()  # Set to evaluation mode\n"
      ],
      "metadata": {
        "id": "Ig8XznpNAWFu"
      },
      "execution_count": null,
      "outputs": []
    },
    {
      "cell_type": "markdown",
      "source": [
        "# Testing and evaluation"
      ],
      "metadata": {
        "id": "9gZt8Q9Fp-ro"
      }
    },
    {
      "cell_type": "code",
      "source": [
        "def calculate_accuracy(output, labels):\n",
        "    _, predicted = torch.max(output, dim=1)  # Get the predicted class\n",
        "    correct = (predicted == labels).sum().item()  # Count correct predictions\n",
        "    accuracy = correct / labels.size(0)  # Calculate accuracy\n",
        "    return accuracy\n",
        "\n",
        "def test_model_ecg(model, data):\n",
        "    model.eval()  # Set the model to evaluation mode\n",
        "    with torch.no_grad():  # No need to compute gradients during testing\n",
        "        output = model(data)  # Forward pass\n",
        "        accuracy = calculate_accuracy(output, data.y)  # Calculate accuracy\n",
        "    print(f\"Test Accuracy: {accuracy * 100:.2f}%\")\n",
        "\n",
        "def test_model_clinical(model, data):\n",
        "    model.eval()  # Set the model to evaluation mode\n",
        "    with torch.no_grad():  # No need to compute gradients during testing\n",
        "        output = model(data.x, data.edge_index)  # Forward pass\n",
        "        accuracy = calculate_accuracy(output, data.y)  # Calculate accuracy\n",
        "    print(f\"Test Accuracy: {accuracy * 100:.2f}%\")\n",
        "\n",
        "# After training models, call the test functions\n",
        "test_model_ecg(ecg_model, ecg_test_graph)\n",
        "#test_model_clinical(clinical_model, clinical_test_graph)\n"
      ],
      "metadata": {
        "colab": {
          "base_uri": "https://localhost:8080/"
        },
        "id": "KxawYGBig5po",
        "outputId": "d93a507e-5b72-4c62-8fa2-46413aa5b942"
      },
      "execution_count": 35,
      "outputs": [
        {
          "output_type": "stream",
          "name": "stdout",
          "text": [
            "Test Accuracy: 96.33%\n"
          ]
        }
      ]
    },
    {
      "cell_type": "code",
      "source": [
        "from sklearn.metrics import classification_report\n",
        "\n",
        "# Function to evaluate model and generate classification report\n",
        "def evaluate_model_ecg(model, test_data, num_classes):\n",
        "    model.eval()  # Set model to evaluation mode\n",
        "\n",
        "    with torch.no_grad():\n",
        "        logits = model(test_data)  # Get raw model outputs\n",
        "        preds = torch.argmax(logits, dim=1).cpu().numpy()  # Convert logits to class predictions\n",
        "        true_labels = test_data.y.cpu().numpy()  # Ground truth labels\n",
        "\n",
        "    # Generate Classification Report\n",
        "    report = classification_report(true_labels, preds, digits=4)\n",
        "    print(\"ECG Classification Report:\\n\", report)\n",
        "\n",
        "# Call the function to evaluate on test set\n",
        "evaluate_model_ecg(ecg_model, ecg_test_graph, num_classes)\n"
      ],
      "metadata": {
        "id": "P8PHHkNuqBRE",
        "colab": {
          "base_uri": "https://localhost:8080/"
        },
        "outputId": "e9b032e7-4307-4371-edfc-b5b10cc556a2"
      },
      "execution_count": 41,
      "outputs": [
        {
          "output_type": "stream",
          "name": "stdout",
          "text": [
            "ECG Classification Report:\n",
            "               precision    recall  f1-score   support\n",
            "\n",
            "           0     0.9179    0.9325    0.9252      3587\n",
            "           1     0.9677    0.9453    0.9564      3709\n",
            "           2     0.9635    0.9635    0.9635      3643\n",
            "           3     0.9846    0.9883    0.9864      3679\n",
            "           4     0.9832    0.9874    0.9853      3499\n",
            "\n",
            "    accuracy                         0.9633     18117\n",
            "   macro avg     0.9634    0.9634    0.9634     18117\n",
            "weighted avg     0.9634    0.9633    0.9633     18117\n",
            "\n"
          ]
        }
      ]
    },
    {
      "cell_type": "code",
      "source": [
        "from sklearn.metrics import roc_auc_score, roc_curve\n",
        "import matplotlib.pyplot as plt\n",
        "import torch.nn.functional as F\n",
        "\n",
        "# Function to compute and plot the AUC-ROC curve\n",
        "def plot_auc_roc(model, test_data, num_classes):\n",
        "    model.eval()  # Set to evaluation mode\n",
        "\n",
        "    with torch.no_grad():\n",
        "        logits = model(test_data)  # Get raw outputs (logits)\n",
        "        probs = F.softmax(logits, dim=1).cpu().numpy()  # Convert logits to probabilities\n",
        "        true_labels = test_data.y.cpu().numpy()  # Ground truth labels (integer)\n",
        "\n",
        "    # Convert integer labels to one-hot encoding for multi-class AUC calculation\n",
        "    true_labels_one_hot = one_hot_encoding(torch.tensor(true_labels), num_classes).cpu().numpy()\n",
        "\n",
        "    # Compute AUC score\n",
        "    auc_score = roc_auc_score(true_labels_one_hot, probs, multi_class=\"ovr\")\n",
        "    print(f\"AUC-ROC Score: {auc_score:.4f}\")\n",
        "\n",
        "    # Plot ROC Curve for each class\n",
        "    plt.figure(figsize=(8, 6))\n",
        "    for i in range(num_classes):\n",
        "        fpr, tpr, _ = roc_curve(true_labels_one_hot[:, i], probs[:, i])  # Get FPR & TPR\n",
        "        plt.plot(fpr, tpr, label=f'Class {i} (AUC={roc_auc_score(true_labels_one_hot[:, i], probs[:, i]):.4f})')\n",
        "\n",
        "    plt.plot([0, 1], [0, 1], 'k--')  # Diagonal line (random chance)\n",
        "    plt.xlabel(\"False Positive Rate (FPR)\")\n",
        "    plt.ylabel(\"True Positive Rate (TPR)\")\n",
        "    plt.title(\"AUC-ROC Curve for ECG Classification\")\n",
        "    plt.legend()\n",
        "    plt.show()\n",
        "\n",
        "# Call the function to plot the AUC-ROC curve\n",
        "plot_auc_roc(ecg_model, ecg_test_graph, num_classes)\n"
      ],
      "metadata": {
        "colab": {
          "base_uri": "https://localhost:8080/",
          "height": 581
        },
        "id": "1Rgfza6Qy6dJ",
        "outputId": "52055f4e-e013-4613-8a1e-c736a47469eb"
      },
      "execution_count": 47,
      "outputs": [
        {
          "output_type": "stream",
          "name": "stdout",
          "text": [
            "AUC-ROC Score: 0.9967\n"
          ]
        },
        {
          "output_type": "display_data",
          "data": {
            "text/plain": [
              "<Figure size 800x600 with 1 Axes>"
            ],
            "image/png": "[encoded data removed]"
          },
          "metadata": {}
        }
      ]
    },
    {
      "cell_type": "code",
      "source": [
        "from sklearn.metrics import confusion_matrix\n",
        "import seaborn as sns\n",
        "import matplotlib.pyplot as plt\n",
        "\n",
        "def plot_confusion_matrix(model, test_data, num_classes):\n",
        "    model.eval()\n",
        "\n",
        "    with torch.no_grad():\n",
        "        logits = model(test_data)\n",
        "        preds = torch.argmax(logits, dim=1).cpu().numpy()\n",
        "        true_labels = test_data.y.cpu().numpy()\n",
        "\n",
        "    cm = confusion_matrix(true_labels, preds)\n",
        "\n",
        "    plt.figure(figsize=(6, 5))\n",
        "    sns.heatmap(cm, annot=True, fmt=\"d\", cmap=\"Blues\", xticklabels=[f\"Class {i}\" for i in range(num_classes)],\n",
        "                yticklabels=[f\"Class {i}\" for i in range(num_classes)])\n",
        "    plt.xlabel(\"Predicted Label\")\n",
        "    plt.ylabel(\"True Label\")\n",
        "    plt.title(\"Confusion Matrix\")\n",
        "    plt.show()\n",
        "\n",
        "# Call the function\n",
        "plot_confusion_matrix(ecg_model, ecg_test_graph, num_classes)\n"
      ],
      "metadata": {
        "colab": {
          "base_uri": "https://localhost:8080/",
          "height": 487
        },
        "id": "TW71gHSf4F0_",
        "outputId": "c5080df9-cc14-40b4-9372-56e3f12fbf33"
      },
      "execution_count": 49,
      "outputs": [
        {
          "output_type": "display_data",
          "data": {
            "text/plain": [
              "<Figure size 600x500 with 2 Axes>"
            ],
            "image/png": "[encoded data removed]"
          },
          "metadata": {}
        }
      ]
    },
    {
      "cell_type": "code",
      "source": [
        "from sklearn.metrics import matthews_corrcoef\n",
        "\n",
        "def compute_mcc(model, test_data):\n",
        "    model.eval()\n",
        "\n",
        "    with torch.no_grad():\n",
        "        logits = model(test_data)\n",
        "        preds = torch.argmax(logits, dim=1).cpu().numpy()\n",
        "        true_labels = test_data.y.cpu().numpy()\n",
        "\n",
        "    mcc = matthews_corrcoef(true_labels, preds)\n",
        "    print(f\"Matthews Correlation Coefficient (MCC): {mcc:.4f}\")\n",
        "\n",
        "compute_mcc(ecg_model, ecg_test_graph)\n"
      ],
      "metadata": {
        "colab": {
          "base_uri": "https://localhost:8080/"
        },
        "id": "3ZOoRo-z4SWd",
        "outputId": "92a304ef-6965-4e76-ac43-fedc922d0ae3"
      },
      "execution_count": 50,
      "outputs": [
        {
          "output_type": "stream",
          "name": "stdout",
          "text": [
            "Matthews Correlation Coefficient (MCC): 0.9541\n"
          ]
        }
      ]
    },
    {
      "cell_type": "code",
      "source": [
        "from sklearn.metrics import cohen_kappa_score\n",
        "\n",
        "def compute_kappa(model, test_data):\n",
        "    model.eval()\n",
        "\n",
        "    with torch.no_grad():\n",
        "        logits = model(test_data)\n",
        "        preds = torch.argmax(logits, dim=1).cpu().numpy()\n",
        "        true_labels = test_data.y.cpu().numpy()\n",
        "\n",
        "    kappa = cohen_kappa_score(true_labels, preds)\n",
        "    print(f\"Cohen’s Kappa Score: {kappa:.4f}\")\n",
        "\n",
        "compute_kappa(ecg_model, ecg_test_graph)\n"
      ],
      "metadata": {
        "colab": {
          "base_uri": "https://localhost:8080/"
        },
        "id": "dsOajzyT4dIU",
        "outputId": "77cc5cda-a593-4ac0-9c29-382872193c74"
      },
      "execution_count": 51,
      "outputs": [
        {
          "output_type": "stream",
          "name": "stdout",
          "text": [
            "Cohen’s Kappa Score: 0.9541\n"
          ]
        }
      ]
    },
    {
      "cell_type": "code",
      "source": [],
      "metadata": {
        "id": "owoGJ2G24hdt"
      },
      "execution_count": null,
      "outputs": []
    }
  ]
}